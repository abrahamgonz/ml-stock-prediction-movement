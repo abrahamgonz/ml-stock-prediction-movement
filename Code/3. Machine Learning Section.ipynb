{
 "cells": [
  {
   "cell_type": "markdown",
   "id": "ba497883",
   "metadata": {},
   "source": [
    "# Machine Learning Module\n",
    "\n",
    "This module was created to find the most accurate machine learning model that allows to predict the direction of the movement of any financial asset in the next minute, using as input intraday data of the last 10 days. \n",
    "\n",
    "The module is composed by two sections.\n",
    "\n",
    "* **Feature selection**\n",
    "    \n",
    "    This process is is made using Lasso regularization\n",
    "    \n",
    "    \n",
    "\n",
    "* **Fitting Machine Learning Models**\n",
    "    \n",
    "    Among the models used in this section will have\n",
    "    \n",
    "    \n",
    "    * Logistic Regression Classifier\n",
    "    * XGBoost Classifier\n",
    "    * Decission Tree Classifier\n",
    "    * Support Vector Machine"
   ]
  },
  {
   "cell_type": "markdown",
   "id": "fdd958ac",
   "metadata": {},
   "source": [
    "First, we need to install and import the libraries"
   ]
  },
  {
   "cell_type": "code",
   "execution_count": null,
   "id": "b72e67f9",
   "metadata": {},
   "outputs": [],
   "source": [
    "#pip install xgboost"
   ]
  },
  {
   "cell_type": "code",
   "execution_count": 1,
   "id": "a4e6c3e0",
   "metadata": {},
   "outputs": [],
   "source": [
    "import pandas as pd\n",
    "import numpy as np\n",
    "import matplotlib.pyplot as plt\n",
    "import seaborn as sn\n",
    "import datetime\n",
    "import xgboost as xgb\n",
    "\n",
    "from xgboost import XGBClassifier\n",
    "from datetime import datetime\n",
    "\n",
    "from sklearn import datasets\n",
    "from sklearn.model_selection import train_test_split\n",
    "from sklearn.model_selection import cross_val_score\n",
    "from sklearn.metrics import accuracy_score\n",
    "from sklearn.metrics import f1_score\n",
    "from sklearn.metrics import confusion_matrix\n",
    "from sklearn.metrics import roc_auc_score\n",
    "from sklearn.feature_selection import SelectFromModel\n",
    "from sklearn.feature_selection import RFE\n",
    "from sklearn.linear_model import LogisticRegression\n",
    "from sklearn.linear_model import Lasso\n",
    "from sklearn.tree import DecisionTreeClassifier\n",
    "from sklearn.svm import SVC\n",
    "from sklearn.svm import LinearSVC\n",
    "from sklearn.ensemble import ExtraTreesClassifier\n",
    "from sklearn.ensemble import AdaBoostRegressor\n",
    "from sklearn.ensemble import RandomForestRegressor\n",
    "from sklearn.preprocessing import StandardScaler"
   ]
  },
  {
   "cell_type": "markdown",
   "id": "cc6da8ef",
   "metadata": {},
   "source": [
    "### Reading data and split the dataset in train and test"
   ]
  },
  {
   "cell_type": "code",
   "execution_count": 2,
   "id": "a99783b2",
   "metadata": {},
   "outputs": [],
   "source": [
    "path = 'C:/Users/abrah/Desktop/DISSERTATION/Data/'\n",
    "total_results = pd.DataFrame()"
   ]
  },
  {
   "cell_type": "code",
   "execution_count": 63,
   "id": "5c4c3121",
   "metadata": {},
   "outputs": [],
   "source": [
    "#symbol = \"EWW\" #ETF replicating MEXICO IPC\n",
    "#symbol = \"AMXL.MX\" #AMÉRICA MÓVIL MÉXICO\n",
    "#symbol = \"WALMEX.MX\" #WALMART DE MEXICO\n",
    "symbol = \"GFNORTEO.MX\" #GRUPO FINANCIERO BANORTE MÉXICO"
   ]
  },
  {
   "cell_type": "code",
   "execution_count": 64,
   "id": "06c27888",
   "metadata": {},
   "outputs": [],
   "source": [
    "data_for_model = pd.read_csv(path + symbol+'_last_month_with_ti.csv')"
   ]
  },
  {
   "cell_type": "markdown",
   "id": "88dcb71d",
   "metadata": {},
   "source": [
    "### Let's split data into training and test sets"
   ]
  },
  {
   "cell_type": "code",
   "execution_count": 65,
   "id": "d451d514",
   "metadata": {},
   "outputs": [],
   "source": [
    "X = data_for_model[['Close','Volume','Force Index','Money Flow Index','SMA 14','EMA 14','ADX',\n",
    "                    'CCI','Stochastic Oscilator','PPO','ROC','ATR']]\n",
    "X = StandardScaler().fit_transform(X)\n",
    "\n",
    "#X = data_for_model[['Close','Volume','Force Index','Money Flow Index','SMA 14','EMA 14','ADX']]\n",
    "\n",
    "Y = data_for_model['Movement to Predict'].to_numpy(dtype='int')"
   ]
  },
  {
   "cell_type": "code",
   "execution_count": 66,
   "id": "6367167e",
   "metadata": {},
   "outputs": [],
   "source": [
    "#max(accuracies)"
   ]
  },
  {
   "cell_type": "code",
   "execution_count": 67,
   "id": "f722338e",
   "metadata": {},
   "outputs": [],
   "source": [
    "# split data into train and test sets\n",
    "seed_split = 25\n",
    "test_size = 0.20\n",
    "X_train, X_test, y_train, y_test = train_test_split(X, Y, test_size=test_size, random_state=seed_split)"
   ]
  },
  {
   "cell_type": "code",
   "execution_count": 68,
   "id": "e67b6995",
   "metadata": {},
   "outputs": [
    {
     "data": {
      "text/plain": [
       "0.4247787610619469"
      ]
     },
     "execution_count": 68,
     "metadata": {},
     "output_type": "execute_result"
    }
   ],
   "source": [
    "sum(y_test)/len(y_test)"
   ]
  },
  {
   "cell_type": "code",
   "execution_count": 69,
   "id": "c7d219d8",
   "metadata": {},
   "outputs": [
    {
     "data": {
      "text/plain": [
       "((5876, 12), (1469, 12))"
      ]
     },
     "execution_count": 69,
     "metadata": {},
     "output_type": "execute_result"
    }
   ],
   "source": [
    "X_train.shape, X_test.shape"
   ]
  },
  {
   "cell_type": "markdown",
   "id": "8e2ff20e",
   "metadata": {},
   "source": [
    "## Feature Selection"
   ]
  },
  {
   "cell_type": "markdown",
   "id": "8e68a32e",
   "metadata": {},
   "source": [
    "### Possible options for feature selection"
   ]
  },
  {
   "cell_type": "code",
   "execution_count": 70,
   "id": "b2d3c0a3",
   "metadata": {},
   "outputs": [],
   "source": [
    "#estimator = LogisticRegression(random_state=50,max_iter=100000)\n",
    "#selector = RFE(estimator, n_features_to_select=7, step=1)\n",
    "#selector.fit(X_train, y_train)\n",
    "#selector.get_support()\n",
    "#X_train = pd.DataFrame(X_train)"
   ]
  },
  {
   "cell_type": "code",
   "execution_count": 71,
   "id": "f8393db2",
   "metadata": {},
   "outputs": [],
   "source": [
    "#estimator = RandomForestRegressor(n_estimators=100, max_depth=10)\n",
    "#selector = RFE(estimator, n_features_to_select=7, step=1)\n",
    "#selector.fit(X_train, y_train)\n",
    "#selector.get_support()\n",
    "#X_train = pd.DataFrame(X_train)"
   ]
  },
  {
   "cell_type": "code",
   "execution_count": 72,
   "id": "4d1a1c79",
   "metadata": {},
   "outputs": [],
   "source": [
    "#estimator = LinearSVC(C=0.01, penalty=\"l1\", dual=False).fit(X_train, y_train)\n",
    "#selector = SelectFromModel(estimator, prefit=True)\n",
    "#X_train = pd.DataFrame(X_train)"
   ]
  },
  {
   "cell_type": "code",
   "execution_count": 73,
   "id": "c8330a1f",
   "metadata": {},
   "outputs": [],
   "source": [
    "#estimator = ExtraTreesClassifier(n_estimators=50).fit(X_train, y_train)\n",
    "#estimator.feature_importances_\n",
    "#selector = SelectFromModel(estimator, prefit=True)\n",
    "#X_train = pd.DataFrame(X_train)"
   ]
  },
  {
   "cell_type": "code",
   "execution_count": 74,
   "id": "1920eaad",
   "metadata": {},
   "outputs": [],
   "source": [
    "#estimator = AdaBoostRegressor(random_state=0, n_estimators=50).fit(X_train, y_train)\n",
    "#selector = SelectFromModel(estimator, prefit=True)\n",
    "#selector.get_support()\n",
    "#X_train = pd.DataFrame(X_train)"
   ]
  },
  {
   "cell_type": "markdown",
   "id": "4d3b62df",
   "metadata": {},
   "source": [
    "### Lasso for feature selection"
   ]
  },
  {
   "cell_type": "code",
   "execution_count": 75,
   "id": "f62043ac",
   "metadata": {},
   "outputs": [],
   "source": [
    "estimator = Lasso(alpha=0.01).fit(X_train, y_train)\n",
    "selector = SelectFromModel(estimator, prefit=True)\n",
    "selector.get_support()\n",
    "X_train = pd.DataFrame(X_train)"
   ]
  },
  {
   "cell_type": "code",
   "execution_count": 76,
   "id": "3b02c59f",
   "metadata": {},
   "outputs": [
    {
     "name": "stdout",
     "output_type": "stream",
     "text": [
      "total features: 12\n",
      "selected features: 3\n",
      "Int64Index([2, 8, 11], dtype='int64')\n"
     ]
    }
   ],
   "source": [
    "selected_feat = X_train.columns[(selector.get_support())]\n",
    "print('total features: {}'.format((X_train.shape[1])))\n",
    "print(f'selected features: {len(selected_feat)}')\n",
    "print(selected_feat)"
   ]
  },
  {
   "cell_type": "code",
   "execution_count": 77,
   "id": "b3e15b70",
   "metadata": {},
   "outputs": [
    {
     "data": {
      "text/plain": [
       "((5876, 3), (1469, 3))"
      ]
     },
     "execution_count": 77,
     "metadata": {},
     "output_type": "execute_result"
    }
   ],
   "source": [
    "X_train_selected = selector.transform(X_train)\n",
    "X_test_selected = selector.transform(X_test)\n",
    "X_train_selected.shape, X_test_selected.shape"
   ]
  },
  {
   "cell_type": "markdown",
   "id": "63584b46",
   "metadata": {},
   "source": [
    "## Fitting Machine Learning Models"
   ]
  },
  {
   "cell_type": "markdown",
   "id": "b0571617",
   "metadata": {},
   "source": [
    "### Let's create a list of models"
   ]
  },
  {
   "cell_type": "code",
   "execution_count": 78,
   "id": "c98302c2",
   "metadata": {},
   "outputs": [],
   "source": [
    "seed = 42\n",
    "list_of_models = [XGBClassifier(seed=seed), \n",
    "                  LogisticRegression(random_state=seed, solver='liblinear',max_iter=10000), \n",
    "                  DecisionTreeClassifier(random_state=seed),\n",
    "                  SVC(random_state=seed,kernel='sigmoid')]"
   ]
  },
  {
   "cell_type": "markdown",
   "id": "f495612d",
   "metadata": {},
   "source": [
    "### Predictions without feature selection"
   ]
  },
  {
   "cell_type": "code",
   "execution_count": 79,
   "id": "d8a4cbfd",
   "metadata": {},
   "outputs": [
    {
     "name": "stdout",
     "output_type": "stream",
     "text": [
      "        Symbol Feature selection                   Model  Cross Val Score  \\\n",
      "0  GFNORTEO.MX                No           XGBClassifier            54.22   \n",
      "1  GFNORTEO.MX                No      LogisticRegression            56.84   \n",
      "2  GFNORTEO.MX                No  DecisionTreeClassifier            53.66   \n",
      "3  GFNORTEO.MX                No                     SVC            50.71   \n",
      "\n",
      "   Accuracy  F1-Score    AUC  \n",
      "0     56.50     54.39  54.50  \n",
      "1     57.79     43.70  51.43  \n",
      "2     54.12     53.24  53.27  \n",
      "3     48.74     47.50  47.50  \n"
     ]
    }
   ],
   "source": [
    "results_without_fs= pd.DataFrame({\"Symbol\":[],\"Feature selection\":[], \"Model\":[], \n",
    "                                  \"Cross Val Score\":[],\"Accuracy\":[],\"F1-Score\":[],\"AUC\":[]})\n",
    "\n",
    "for i in range(len(list_of_models)):\n",
    "    \n",
    "    model = list_of_models[i]\n",
    "    #print(y_train)\n",
    "    model.fit(X_train, y_train)\n",
    "\n",
    "\n",
    "    # make predictions for test data\n",
    "    y_pred = model.predict(X_test)\n",
    "    #print(y_pred)\n",
    "    \n",
    "    # evaluate predictions\n",
    "    scores = cross_val_score(model, X_train, y_train, cv=5)\n",
    "    accuracy = accuracy_score(y_test, y_pred)\n",
    "    f1_score_final = f1_score(y_test, y_pred, average='macro',zero_division=1)\n",
    "    roc_auc_score_final = roc_auc_score(y_test, y_pred)\n",
    "    new_row =[symbol,\"No\",\n",
    "              list_of_models[i].__class__.__name__,\n",
    "              round((scores.mean()*100),2),\n",
    "              round((accuracy*100),2),\n",
    "              round((f1_score_final*100),2),\n",
    "              round((roc_auc_score_final*100),2)]\n",
    "    results_without_fs.loc[i] = new_row\n",
    "\n",
    "print(results_without_fs)\n",
    "total_results = total_results.append(results_without_fs)"
   ]
  },
  {
   "cell_type": "markdown",
   "id": "6c2277b1",
   "metadata": {},
   "source": [
    "### Predictions with feature selection: Lasso"
   ]
  },
  {
   "cell_type": "code",
   "execution_count": 80,
   "id": "8f202c0a",
   "metadata": {},
   "outputs": [
    {
     "name": "stdout",
     "output_type": "stream",
     "text": [
      "        Symbol Feature selection                   Model  Cross Val Score  \\\n",
      "0  GFNORTEO.MX               Yes           XGBClassifier            55.00   \n",
      "1  GFNORTEO.MX               Yes      LogisticRegression            57.13   \n",
      "2  GFNORTEO.MX               Yes  DecisionTreeClassifier            52.01   \n",
      "3  GFNORTEO.MX               Yes                     SVC            51.38   \n",
      "\n",
      "   Accuracy  F1-Score    AUC  \n",
      "0     53.57     49.71  50.55  \n",
      "1     58.13     43.69  51.69  \n",
      "2     52.42     51.67  51.72  \n",
      "3     50.65     49.45  49.45  \n"
     ]
    }
   ],
   "source": [
    "results_with_fs= pd.DataFrame({\"Symbol\":[],\"Feature selection\":[], \"Model\":[], \n",
    "                                  \"Cross Val Score\":[],\"Accuracy\":[],\"F1-Score\":[],\"AUC\":[]})\n",
    "\n",
    "for i in range(len(list_of_models)):\n",
    "    \n",
    "    \n",
    "    model = list_of_models[i]\n",
    "    model.fit(X_train_selected, y_train)\n",
    "\n",
    "\n",
    "    # make predictions for test data\n",
    "    y_pred = model.predict(X_test_selected)\n",
    "    #print(y_pred)\n",
    "    \n",
    "    # evaluate predictions\n",
    "    scores = cross_val_score(model, X_train_selected, y_train, cv=5)\n",
    "    accuracy = accuracy_score(y_test, y_pred)\n",
    "    f1_score_final = f1_score(y_test, y_pred, average='macro',zero_division=1)\n",
    "    roc_auc_score_final = roc_auc_score(y_test, y_pred)\n",
    "    new_row =[symbol,\"Yes\",\n",
    "              list_of_models[i].__class__.__name__,\n",
    "              round((scores.mean()*100),2),\n",
    "              round((accuracy*100),2),\n",
    "              round((f1_score_final*100),2),\n",
    "              round((roc_auc_score_final*100),2)]\n",
    "    results_with_fs.loc[i] = new_row\n",
    "    \n",
    "print(results_with_fs)\n",
    "total_results = total_results.append(results_with_fs)"
   ]
  },
  {
   "cell_type": "code",
   "execution_count": 81,
   "id": "d3ee7a0b",
   "metadata": {},
   "outputs": [
    {
     "data": {
      "text/html": [
       "<div>\n",
       "<style scoped>\n",
       "    .dataframe tbody tr th:only-of-type {\n",
       "        vertical-align: middle;\n",
       "    }\n",
       "\n",
       "    .dataframe tbody tr th {\n",
       "        vertical-align: top;\n",
       "    }\n",
       "\n",
       "    .dataframe thead th {\n",
       "        text-align: right;\n",
       "    }\n",
       "</style>\n",
       "<table border=\"1\" class=\"dataframe\">\n",
       "  <thead>\n",
       "    <tr style=\"text-align: right;\">\n",
       "      <th></th>\n",
       "      <th>Symbol</th>\n",
       "      <th>Feature selection</th>\n",
       "      <th>Model</th>\n",
       "      <th>Cross Val Score</th>\n",
       "      <th>Accuracy</th>\n",
       "      <th>F1-Score</th>\n",
       "      <th>AUC</th>\n",
       "    </tr>\n",
       "  </thead>\n",
       "  <tbody>\n",
       "    <tr>\n",
       "      <th>0</th>\n",
       "      <td>EWW</td>\n",
       "      <td>No</td>\n",
       "      <td>XGBClassifier</td>\n",
       "      <td>54.27</td>\n",
       "      <td>54.25</td>\n",
       "      <td>50.06</td>\n",
       "      <td>50.72</td>\n",
       "    </tr>\n",
       "    <tr>\n",
       "      <th>1</th>\n",
       "      <td>EWW</td>\n",
       "      <td>No</td>\n",
       "      <td>LogisticRegression</td>\n",
       "      <td>58.53</td>\n",
       "      <td>58.66</td>\n",
       "      <td>38.15</td>\n",
       "      <td>50.08</td>\n",
       "    </tr>\n",
       "    <tr>\n",
       "      <th>2</th>\n",
       "      <td>EWW</td>\n",
       "      <td>No</td>\n",
       "      <td>DecisionTreeClassifier</td>\n",
       "      <td>52.58</td>\n",
       "      <td>50.70</td>\n",
       "      <td>49.38</td>\n",
       "      <td>49.38</td>\n",
       "    </tr>\n",
       "    <tr>\n",
       "      <th>3</th>\n",
       "      <td>EWW</td>\n",
       "      <td>No</td>\n",
       "      <td>SVC</td>\n",
       "      <td>50.80</td>\n",
       "      <td>50.23</td>\n",
       "      <td>48.67</td>\n",
       "      <td>48.67</td>\n",
       "    </tr>\n",
       "    <tr>\n",
       "      <th>0</th>\n",
       "      <td>EWW</td>\n",
       "      <td>Yes</td>\n",
       "      <td>XGBClassifier</td>\n",
       "      <td>54.23</td>\n",
       "      <td>54.65</td>\n",
       "      <td>47.70</td>\n",
       "      <td>49.78</td>\n",
       "    </tr>\n",
       "    <tr>\n",
       "      <th>1</th>\n",
       "      <td>EWW</td>\n",
       "      <td>Yes</td>\n",
       "      <td>LogisticRegression</td>\n",
       "      <td>58.82</td>\n",
       "      <td>58.39</td>\n",
       "      <td>37.31</td>\n",
       "      <td>49.73</td>\n",
       "    </tr>\n",
       "    <tr>\n",
       "      <th>2</th>\n",
       "      <td>EWW</td>\n",
       "      <td>Yes</td>\n",
       "      <td>DecisionTreeClassifier</td>\n",
       "      <td>51.04</td>\n",
       "      <td>53.65</td>\n",
       "      <td>52.06</td>\n",
       "      <td>52.06</td>\n",
       "    </tr>\n",
       "    <tr>\n",
       "      <th>3</th>\n",
       "      <td>EWW</td>\n",
       "      <td>Yes</td>\n",
       "      <td>SVC</td>\n",
       "      <td>52.78</td>\n",
       "      <td>50.90</td>\n",
       "      <td>49.18</td>\n",
       "      <td>49.19</td>\n",
       "    </tr>\n",
       "    <tr>\n",
       "      <th>0</th>\n",
       "      <td>AMXL.MX</td>\n",
       "      <td>No</td>\n",
       "      <td>XGBClassifier</td>\n",
       "      <td>68.66</td>\n",
       "      <td>69.57</td>\n",
       "      <td>50.46</td>\n",
       "      <td>52.06</td>\n",
       "    </tr>\n",
       "    <tr>\n",
       "      <th>1</th>\n",
       "      <td>AMXL.MX</td>\n",
       "      <td>No</td>\n",
       "      <td>LogisticRegression</td>\n",
       "      <td>71.44</td>\n",
       "      <td>72.64</td>\n",
       "      <td>42.54</td>\n",
       "      <td>50.02</td>\n",
       "    </tr>\n",
       "    <tr>\n",
       "      <th>2</th>\n",
       "      <td>AMXL.MX</td>\n",
       "      <td>No</td>\n",
       "      <td>DecisionTreeClassifier</td>\n",
       "      <td>61.27</td>\n",
       "      <td>60.65</td>\n",
       "      <td>51.96</td>\n",
       "      <td>52.09</td>\n",
       "    </tr>\n",
       "    <tr>\n",
       "      <th>3</th>\n",
       "      <td>AMXL.MX</td>\n",
       "      <td>No</td>\n",
       "      <td>SVC</td>\n",
       "      <td>59.33</td>\n",
       "      <td>62.05</td>\n",
       "      <td>51.90</td>\n",
       "      <td>51.89</td>\n",
       "    </tr>\n",
       "    <tr>\n",
       "      <th>0</th>\n",
       "      <td>AMXL.MX</td>\n",
       "      <td>Yes</td>\n",
       "      <td>XGBClassifier</td>\n",
       "      <td>67.26</td>\n",
       "      <td>69.77</td>\n",
       "      <td>47.53</td>\n",
       "      <td>50.59</td>\n",
       "    </tr>\n",
       "    <tr>\n",
       "      <th>1</th>\n",
       "      <td>AMXL.MX</td>\n",
       "      <td>Yes</td>\n",
       "      <td>LogisticRegression</td>\n",
       "      <td>71.37</td>\n",
       "      <td>72.84</td>\n",
       "      <td>42.38</td>\n",
       "      <td>50.08</td>\n",
       "    </tr>\n",
       "    <tr>\n",
       "      <th>2</th>\n",
       "      <td>AMXL.MX</td>\n",
       "      <td>Yes</td>\n",
       "      <td>DecisionTreeClassifier</td>\n",
       "      <td>59.42</td>\n",
       "      <td>60.85</td>\n",
       "      <td>51.83</td>\n",
       "      <td>51.92</td>\n",
       "    </tr>\n",
       "    <tr>\n",
       "      <th>3</th>\n",
       "      <td>AMXL.MX</td>\n",
       "      <td>Yes</td>\n",
       "      <td>SVC</td>\n",
       "      <td>59.80</td>\n",
       "      <td>60.72</td>\n",
       "      <td>50.37</td>\n",
       "      <td>50.37</td>\n",
       "    </tr>\n",
       "    <tr>\n",
       "      <th>0</th>\n",
       "      <td>WALMEX.MX</td>\n",
       "      <td>No</td>\n",
       "      <td>XGBClassifier</td>\n",
       "      <td>55.08</td>\n",
       "      <td>54.88</td>\n",
       "      <td>50.41</td>\n",
       "      <td>50.78</td>\n",
       "    </tr>\n",
       "    <tr>\n",
       "      <th>1</th>\n",
       "      <td>WALMEX.MX</td>\n",
       "      <td>No</td>\n",
       "      <td>LogisticRegression</td>\n",
       "      <td>58.45</td>\n",
       "      <td>60.23</td>\n",
       "      <td>44.85</td>\n",
       "      <td>51.27</td>\n",
       "    </tr>\n",
       "    <tr>\n",
       "      <th>2</th>\n",
       "      <td>WALMEX.MX</td>\n",
       "      <td>No</td>\n",
       "      <td>DecisionTreeClassifier</td>\n",
       "      <td>53.13</td>\n",
       "      <td>53.02</td>\n",
       "      <td>50.91</td>\n",
       "      <td>50.92</td>\n",
       "    </tr>\n",
       "    <tr>\n",
       "      <th>3</th>\n",
       "      <td>WALMEX.MX</td>\n",
       "      <td>No</td>\n",
       "      <td>SVC</td>\n",
       "      <td>52.77</td>\n",
       "      <td>54.88</td>\n",
       "      <td>52.92</td>\n",
       "      <td>52.94</td>\n",
       "    </tr>\n",
       "    <tr>\n",
       "      <th>0</th>\n",
       "      <td>WALMEX.MX</td>\n",
       "      <td>Yes</td>\n",
       "      <td>XGBClassifier</td>\n",
       "      <td>54.29</td>\n",
       "      <td>55.29</td>\n",
       "      <td>49.91</td>\n",
       "      <td>50.59</td>\n",
       "    </tr>\n",
       "    <tr>\n",
       "      <th>1</th>\n",
       "      <td>WALMEX.MX</td>\n",
       "      <td>Yes</td>\n",
       "      <td>LogisticRegression</td>\n",
       "      <td>58.64</td>\n",
       "      <td>60.16</td>\n",
       "      <td>44.02</td>\n",
       "      <td>51.00</td>\n",
       "    </tr>\n",
       "    <tr>\n",
       "      <th>2</th>\n",
       "      <td>WALMEX.MX</td>\n",
       "      <td>Yes</td>\n",
       "      <td>DecisionTreeClassifier</td>\n",
       "      <td>51.77</td>\n",
       "      <td>53.43</td>\n",
       "      <td>51.22</td>\n",
       "      <td>51.22</td>\n",
       "    </tr>\n",
       "    <tr>\n",
       "      <th>3</th>\n",
       "      <td>WALMEX.MX</td>\n",
       "      <td>Yes</td>\n",
       "      <td>SVC</td>\n",
       "      <td>52.13</td>\n",
       "      <td>52.06</td>\n",
       "      <td>50.02</td>\n",
       "      <td>50.03</td>\n",
       "    </tr>\n",
       "    <tr>\n",
       "      <th>0</th>\n",
       "      <td>GFNORTEO.MX</td>\n",
       "      <td>No</td>\n",
       "      <td>XGBClassifier</td>\n",
       "      <td>54.22</td>\n",
       "      <td>56.50</td>\n",
       "      <td>54.39</td>\n",
       "      <td>54.50</td>\n",
       "    </tr>\n",
       "    <tr>\n",
       "      <th>1</th>\n",
       "      <td>GFNORTEO.MX</td>\n",
       "      <td>No</td>\n",
       "      <td>LogisticRegression</td>\n",
       "      <td>56.84</td>\n",
       "      <td>57.79</td>\n",
       "      <td>43.70</td>\n",
       "      <td>51.43</td>\n",
       "    </tr>\n",
       "    <tr>\n",
       "      <th>2</th>\n",
       "      <td>GFNORTEO.MX</td>\n",
       "      <td>No</td>\n",
       "      <td>DecisionTreeClassifier</td>\n",
       "      <td>53.66</td>\n",
       "      <td>54.12</td>\n",
       "      <td>53.24</td>\n",
       "      <td>53.27</td>\n",
       "    </tr>\n",
       "    <tr>\n",
       "      <th>3</th>\n",
       "      <td>GFNORTEO.MX</td>\n",
       "      <td>No</td>\n",
       "      <td>SVC</td>\n",
       "      <td>50.71</td>\n",
       "      <td>48.74</td>\n",
       "      <td>47.50</td>\n",
       "      <td>47.50</td>\n",
       "    </tr>\n",
       "    <tr>\n",
       "      <th>0</th>\n",
       "      <td>GFNORTEO.MX</td>\n",
       "      <td>Yes</td>\n",
       "      <td>XGBClassifier</td>\n",
       "      <td>55.00</td>\n",
       "      <td>53.57</td>\n",
       "      <td>49.71</td>\n",
       "      <td>50.55</td>\n",
       "    </tr>\n",
       "    <tr>\n",
       "      <th>1</th>\n",
       "      <td>GFNORTEO.MX</td>\n",
       "      <td>Yes</td>\n",
       "      <td>LogisticRegression</td>\n",
       "      <td>57.13</td>\n",
       "      <td>58.13</td>\n",
       "      <td>43.69</td>\n",
       "      <td>51.69</td>\n",
       "    </tr>\n",
       "    <tr>\n",
       "      <th>2</th>\n",
       "      <td>GFNORTEO.MX</td>\n",
       "      <td>Yes</td>\n",
       "      <td>DecisionTreeClassifier</td>\n",
       "      <td>52.01</td>\n",
       "      <td>52.42</td>\n",
       "      <td>51.67</td>\n",
       "      <td>51.72</td>\n",
       "    </tr>\n",
       "    <tr>\n",
       "      <th>3</th>\n",
       "      <td>GFNORTEO.MX</td>\n",
       "      <td>Yes</td>\n",
       "      <td>SVC</td>\n",
       "      <td>51.38</td>\n",
       "      <td>50.65</td>\n",
       "      <td>49.45</td>\n",
       "      <td>49.45</td>\n",
       "    </tr>\n",
       "  </tbody>\n",
       "</table>\n",
       "</div>"
      ],
      "text/plain": [
       "        Symbol Feature selection                   Model  Cross Val Score  \\\n",
       "0          EWW                No           XGBClassifier            54.27   \n",
       "1          EWW                No      LogisticRegression            58.53   \n",
       "2          EWW                No  DecisionTreeClassifier            52.58   \n",
       "3          EWW                No                     SVC            50.80   \n",
       "0          EWW               Yes           XGBClassifier            54.23   \n",
       "1          EWW               Yes      LogisticRegression            58.82   \n",
       "2          EWW               Yes  DecisionTreeClassifier            51.04   \n",
       "3          EWW               Yes                     SVC            52.78   \n",
       "0      AMXL.MX                No           XGBClassifier            68.66   \n",
       "1      AMXL.MX                No      LogisticRegression            71.44   \n",
       "2      AMXL.MX                No  DecisionTreeClassifier            61.27   \n",
       "3      AMXL.MX                No                     SVC            59.33   \n",
       "0      AMXL.MX               Yes           XGBClassifier            67.26   \n",
       "1      AMXL.MX               Yes      LogisticRegression            71.37   \n",
       "2      AMXL.MX               Yes  DecisionTreeClassifier            59.42   \n",
       "3      AMXL.MX               Yes                     SVC            59.80   \n",
       "0    WALMEX.MX                No           XGBClassifier            55.08   \n",
       "1    WALMEX.MX                No      LogisticRegression            58.45   \n",
       "2    WALMEX.MX                No  DecisionTreeClassifier            53.13   \n",
       "3    WALMEX.MX                No                     SVC            52.77   \n",
       "0    WALMEX.MX               Yes           XGBClassifier            54.29   \n",
       "1    WALMEX.MX               Yes      LogisticRegression            58.64   \n",
       "2    WALMEX.MX               Yes  DecisionTreeClassifier            51.77   \n",
       "3    WALMEX.MX               Yes                     SVC            52.13   \n",
       "0  GFNORTEO.MX                No           XGBClassifier            54.22   \n",
       "1  GFNORTEO.MX                No      LogisticRegression            56.84   \n",
       "2  GFNORTEO.MX                No  DecisionTreeClassifier            53.66   \n",
       "3  GFNORTEO.MX                No                     SVC            50.71   \n",
       "0  GFNORTEO.MX               Yes           XGBClassifier            55.00   \n",
       "1  GFNORTEO.MX               Yes      LogisticRegression            57.13   \n",
       "2  GFNORTEO.MX               Yes  DecisionTreeClassifier            52.01   \n",
       "3  GFNORTEO.MX               Yes                     SVC            51.38   \n",
       "\n",
       "   Accuracy  F1-Score    AUC  \n",
       "0     54.25     50.06  50.72  \n",
       "1     58.66     38.15  50.08  \n",
       "2     50.70     49.38  49.38  \n",
       "3     50.23     48.67  48.67  \n",
       "0     54.65     47.70  49.78  \n",
       "1     58.39     37.31  49.73  \n",
       "2     53.65     52.06  52.06  \n",
       "3     50.90     49.18  49.19  \n",
       "0     69.57     50.46  52.06  \n",
       "1     72.64     42.54  50.02  \n",
       "2     60.65     51.96  52.09  \n",
       "3     62.05     51.90  51.89  \n",
       "0     69.77     47.53  50.59  \n",
       "1     72.84     42.38  50.08  \n",
       "2     60.85     51.83  51.92  \n",
       "3     60.72     50.37  50.37  \n",
       "0     54.88     50.41  50.78  \n",
       "1     60.23     44.85  51.27  \n",
       "2     53.02     50.91  50.92  \n",
       "3     54.88     52.92  52.94  \n",
       "0     55.29     49.91  50.59  \n",
       "1     60.16     44.02  51.00  \n",
       "2     53.43     51.22  51.22  \n",
       "3     52.06     50.02  50.03  \n",
       "0     56.50     54.39  54.50  \n",
       "1     57.79     43.70  51.43  \n",
       "2     54.12     53.24  53.27  \n",
       "3     48.74     47.50  47.50  \n",
       "0     53.57     49.71  50.55  \n",
       "1     58.13     43.69  51.69  \n",
       "2     52.42     51.67  51.72  \n",
       "3     50.65     49.45  49.45  "
      ]
     },
     "execution_count": 81,
     "metadata": {},
     "output_type": "execute_result"
    }
   ],
   "source": [
    "total_results"
   ]
  },
  {
   "cell_type": "code",
   "execution_count": 82,
   "id": "4e60aed0",
   "metadata": {},
   "outputs": [],
   "source": [
    "total_results.to_csv(path +'total_results.csv')"
   ]
  }
 ],
 "metadata": {
  "kernelspec": {
   "display_name": "Python 3 (ipykernel)",
   "language": "python",
   "name": "python3"
  },
  "language_info": {
   "codemirror_mode": {
    "name": "ipython",
    "version": 3
   },
   "file_extension": ".py",
   "mimetype": "text/x-python",
   "name": "python",
   "nbconvert_exporter": "python",
   "pygments_lexer": "ipython3",
   "version": "3.7.6"
  }
 },
 "nbformat": 4,
 "nbformat_minor": 5
}
